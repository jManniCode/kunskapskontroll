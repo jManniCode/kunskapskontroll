{
 "cells": [
  {
   "cell_type": "markdown",
   "id": "47622b54",
   "metadata": {},
   "source": [
    "# 1. Vad är skillnaden på en tuple och list i Python? Är den ena datatypen bättre än den andra?"
   ]
  },
  {
   "cell_type": "markdown",
   "id": "ae8c94a9",
   "metadata": {},
   "source": [
    "####  Både en lista och en tuple är en samling av element men en lista är mutable vilket en tuple inte är."
   ]
  },
  {
   "cell_type": "markdown",
   "id": "836c58ed",
   "metadata": {},
   "source": [
    "# 2. Vad är en funktion för något? Varför kan funktioner vara användbara?"
   ]
  },
  {
   "cell_type": "markdown",
   "id": "aafaa330",
   "metadata": {},
   "source": [
    "#### En funktion är återanvändbar kod som tar input -> gör något med inputen -> skickar tillbaka resultatet som output. Det är användbart eftersom det gör koden med lättläst/strukturerad och lättare att ändra eftersom man bara behöver ändra på ett ställe. "
   ]
  },
  {
   "cell_type": "markdown",
   "id": "3881aeb6",
   "metadata": {},
   "source": [
    "# 3. Förklara vad nedanstående begrepp, kopplat till klasser, betyder: a) Instans b) Attribut c) Metod"
   ]
  },
  {
   "cell_type": "markdown",
   "id": "783d4bba",
   "metadata": {},
   "source": [
    "#### A. När man skapar ett objekt som tillhör klassen så gör man en instans av klassen.\n",
    "#### B. En egenskap/variabel som hör till klassen. t.ex. namn eller ålder.\n",
    "#### C. En funktion som är definierad inuti en klass. "
   ]
  },
  {
   "cell_type": "markdown",
   "id": "3dfbd081",
   "metadata": {},
   "source": [
    "# 4. Vad är Streamlit för något?"
   ]
  },
  {
   "cell_type": "markdown",
   "id": "ac028007",
   "metadata": {},
   "source": [
    "#### Det är ett Python-ramverk för att snabbt skapa webbappar där man kan visa t.ex. datavisualiseringar och analyser."
   ]
  },
  {
   "cell_type": "markdown",
   "id": "fc61d97a",
   "metadata": {},
   "source": [
    "# 5. I Python ska du nu: \n",
    "### a) Skapa en klass som heter BankAccount. Klassen skall ha attributet \"account_holder\" som visar kontoinnehavarens namn samt attributet \"balance\" som visar kontoinnehavarens balans. Klassen skall ha metoden \"deposit()\" för att kunna sätta in pengar på kontot samt metoden \"withdraw()\" för att kunna ta ut pengar från kontot. Om bankinnehavaren försöker ta ut mer pengar än vad som finns på kontot skall meddelandet \"Too low balance\" printas ut.\n",
    "### b) Skapa en instans av klassen och testa så klassen funkar så som du förväntar dig. Du kan till exempel prova printa ut attributen, sätta in pengar och ta ut pengar."
   ]
  },
  {
   "cell_type": "code",
   "execution_count": null,
   "id": "adf0158e",
   "metadata": {},
   "outputs": [
    {
     "name": "stdout",
     "output_type": "stream",
     "text": [
      "Jonas\n",
      "1000\n",
      "1500\n",
      "Too low balance\n",
      "1400\n"
     ]
    }
   ],
   "source": [
    "#A\n",
    "class BankAccount:\n",
    "    \"\"\"\n",
    "    This class represents a bank account, allowing deposits and withdrawals.\n",
    "\n",
    "    Attributes:\n",
    "        account_holder (str): The name of the account holder.\n",
    "        balance (float): The current balance of the account.\n",
    "\n",
    "    Methods:\n",
    "        deposit(amount): Adds money to the account.\n",
    "        withdraw(amount): Withdraws money if sufficient balance exists.\n",
    "    \"\"\"\n",
    "\n",
    "    def __init__(self, account_holder, balance=0):\n",
    "        self.account_holder = account_holder\n",
    "        self.balance = balance\n",
    "    \n",
    "    def deposit(self, amount):\n",
    "        self.balance += amount\n",
    "\n",
    "    def withdraw(self, amount):\n",
    "        if amount > self.balance:\n",
    "            print(\"Too low balance\")\n",
    "        else:\n",
    "            self.balance -= amount\n",
    "\n",
    "#B\n",
    "account = BankAccount(\"Jonas\", 1000)\n",
    "print(account.account_holder)  \n",
    "print(account.balance)        \n",
    "account.deposit(500)\n",
    "print(account.balance)        \n",
    "account.withdraw(2000)        \n",
    "account.withdraw(100)\n",
    "print(account.balance)     \n",
    "\n",
    "    "
   ]
  },
  {
   "cell_type": "markdown",
   "id": "047b21cc",
   "metadata": {},
   "source": [
    "# 6.På intervjuer brukar ibland kodtest genomföras. Här är ett exempel på en fråga som hade kunnat dyka upp på ett kodtest. Skapa en Python funktion som beräknar antalet vokaler i en sträng. Vokalerna är: A, E, I, O, U, Y, Å, Ä och Ö. Exempelvis: vowel_checker(’hjärna’) ska returnera ”2” eftersom ordet ”hjärna” har de två vokalerna ”ä” och ”a”."
   ]
  },
  {
   "cell_type": "code",
   "execution_count": null,
   "id": "f3b72bc2",
   "metadata": {},
   "outputs": [
    {
     "name": "stdout",
     "output_type": "stream",
     "text": [
      "2\n",
      "2\n",
      "3\n"
     ]
    }
   ],
   "source": [
    "def vowel_checker(word):\n",
    "    \"\"\"\n",
    "    Returns the number of vowels in a string.\n",
    "    Vowels: a, e, i, o, u, y, å, ä, ö (both uppercase and lowercase are handled).\n",
    "\n",
    "    Parameters:\n",
    "        word (str): The string to check.\n",
    "\n",
    "    Returns:\n",
    "        int: The number of vowels in the word.\n",
    "    \"\"\"\n",
    "    vowels = \"aeiouyåäö\"\n",
    "    count = 0\n",
    "    for char in word.lower():\n",
    "        if char in vowels:\n",
    "            count += 1\n",
    "    return count\n",
    "\n",
    "print(vowel_checker(\"HJÄRNA\"))\n",
    "print(vowel_checker(\"hjärna\"))\n",
    "print(vowel_checker(\"VÄLKOMMEN\"))\n"
   ]
  },
  {
   "cell_type": "markdown",
   "id": "cde6e165",
   "metadata": {},
   "source": [
    "# 7. På intervjuer brukar ibland kodtest genomföras. Här är ett exempel på en fråga som hade kunnat dyka upp på ett kodtest. Skapa en funktion som tar två listor som argument och returnerar de gemensamma elementen i listorna i en ny lista. Exempelvis: common_elements([4, ’apple’, 10, ’hi’, 3], ([23 ’apple’, 5, 9, 3]) ska returnera svaret [’apple’, 3]."
   ]
  },
  {
   "cell_type": "code",
   "execution_count": null,
   "id": "0168b55d",
   "metadata": {},
   "outputs": [
    {
     "name": "stdout",
     "output_type": "stream",
     "text": [
      "['apple', 3]\n"
     ]
    },
    {
     "data": {
      "text/plain": [
       "list"
      ]
     },
     "execution_count": 2,
     "metadata": {},
     "output_type": "execute_result"
    }
   ],
   "source": [
    "list1 = [4, \"apple\", 10, \"hi\", 3]\n",
    "list2 = [23, \"apple\", 5, 9, 3]\n",
    "def common_elements(list1, list2):\n",
    "    \"\"\"\n",
    "    Returns a list with the common elements between two lists.\n",
    "\n",
    "    Parameters:\n",
    "        list1: The first list.\n",
    "        list2: The second list.\n",
    "\n",
    "    Returns:\n",
    "        A list with the common elements.\n",
    "    \"\"\"\n",
    "    return list(set(list1) & set(list2))\n",
    "\n",
    "\n",
    "list3 = common_elements(list1, list2)\n",
    "print(list3)\n",
    "type(list3)"
   ]
  },
  {
   "cell_type": "markdown",
   "id": "122be61c",
   "metadata": {},
   "source": [
    "# 8.Många barn tror att de blev till genom att en stork kom och lämnade dem till deras föräldrar. För att undersöka det kan vi kolla på data och det finns en graf enligt figuren nedan. Det verkar alltså finnas ett samband mellan antalet storkar och barnafödsel!? Stämmer påståendet? Använd begreppet ”kausalitet” i ditt svar."
   ]
  },
  {
   "cell_type": "markdown",
   "id": "3e9cfc08",
   "metadata": {},
   "source": [
    "#### Även om det kan se ut som att det finns ett samband mellan antalet storkar och antalet barnafödslar, innebär det inte att det finns kausalitet mellan dessa. I detta fall finns det troligen bara en korrelation, storkar orsakar inte att fler barn föds och fler barnafödslar är inte orsaken till fler storkar. Sambandet är troligtvis bara helt slumpmässigt."
   ]
  },
  {
   "cell_type": "markdown",
   "id": "fc1d8ddc",
   "metadata": {},
   "source": [
    "# 9. Kim påstår att ”medelvärdet” är ett bättre mått än ”medianvärdet”. Håller du med Kalle?"
   ]
  },
  {
   "cell_type": "markdown",
   "id": "cd166448",
   "metadata": {},
   "source": [
    "#### Jag håller inte med, det beror på vad man vill mäta och vilka värden man har att jobba med. Medelvärdet påverkas t.ex av extremvärden, medan medianen ger det mittersta värdet och är ofta bättre om datan innehåller extremvärden. "
   ]
  },
  {
   "cell_type": "markdown",
   "id": "a715fe4e",
   "metadata": {},
   "source": [
    "# 10. Vad används cirkeldiagram för? Ge ett exempel på vad ett företag som Spotify (eller något annat företag som du själv väljer) hade kunnat använda cirkeldiagram för."
   ]
  },
  {
   "cell_type": "markdown",
   "id": "836e33cb",
   "metadata": {},
   "source": [
    "### Cirkeldiagram används för att visa hur en helhet är uppdelad i olika delar. Spotify skulle kunna använda ett cirkeldiagram för att visa hur stor andel av deras lyssnare som är killar respektive tjejer. De kan även använda cirkeldiagram för att visa fördelningen av lyssnare mellan olika musikgenrer.\n"
   ]
  },
  {
   "cell_type": "markdown",
   "id": "cf077698",
   "metadata": {},
   "source": [
    "# 11. Vad används linjediagram för? Ge ett exempel på vad ett företag som Spotify (eller något annat företag som du själv väljer) hade kunnat använda linjediagram för."
   ]
  },
  {
   "cell_type": "markdown",
   "id": "d8d6a220",
   "metadata": {},
   "source": [
    "#### Det används för att visa hur något förändras över tid. Spotify hade kunnat använda det för att se hur deras användarantal förändras över tid. De kan också visa hur många som har lyssnat på en viss låt under olika veckor eller hur intresset för olika musikgenrer har förändrats över tid."
   ]
  },
  {
   "cell_type": "markdown",
   "id": "cf4e4203",
   "metadata": {},
   "source": [
    "# 12. Vad används lådagram för?"
   ]
  },
  {
   "cell_type": "markdown",
   "id": "850546ce",
   "metadata": {},
   "source": [
    "#### Lådagram (boxplot) används för att visa hur data är fördelad och hur stor spridning den har. Diagrammet visar median, övre och nedre kvartiler samt störta och minsta värdet, uppdelat i zoner."
   ]
  }
 ],
 "metadata": {
  "kernelspec": {
   "display_name": "streamlitenv",
   "language": "python",
   "name": "python3"
  },
  "language_info": {
   "codemirror_mode": {
    "name": "ipython",
    "version": 3
   },
   "file_extension": ".py",
   "mimetype": "text/x-python",
   "name": "python",
   "nbconvert_exporter": "python",
   "pygments_lexer": "ipython3",
   "version": "3.12.9"
  }
 },
 "nbformat": 4,
 "nbformat_minor": 5
}
